{
 "cells": [
  {
   "cell_type": "markdown",
   "metadata": {},
   "source": [
    "# Steps to use this code\n",
    "1. Create 4 folders named as CCNA1, CCNA2, CCNA3, CCNA4\n",
    "2. Put text files including the names of pdfs into corresponding folder(VIEW THE SOURCE OF THIS MARKDOWN TO GET THE LINE SEPERATED PDFS)\n",
    "3. Run the code in an environment with `wget`\n",
    "\n",
    "### CCNA1\n",
    "01_Explore_the_Network.pdf\n",
    "02_Configure_a_Network_Operating_System.pdf\n",
    "03_Network_Protocols_and_Communication.pdf\n",
    "04_Network_Access.pdf\t\n",
    "05_Ethernet.pdf\n",
    "06_Network_Layer.pdf\n",
    "07_IP_Addressing.pdf\n",
    "08_Subnetting_IP_Networks.pdf\n",
    "09_Transport_Layer.pdf\n",
    "10_Application_Layer.pdf\n",
    "11_Build_a_Small_Network.pdf\n",
    "\n",
    "### CCNA2\n",
    "01_Routing_Concept.pdf\n",
    "02_Static_Routing.pdf\t\n",
    "03_Dynamic_Routing.pdf\n",
    "04_Switched_Networks.pdf\n",
    "05_Switch_Configuration.pdf\t\n",
    "06_VLANs.pdf\n",
    "07_Access_Control_Lists.pdf\t\n",
    "08_DHCP.pdf\n",
    "09_NAT_for_IPv4.pdf\n",
    "10_Discover_Manage_Maintenance.pdf\n",
    "\n",
    "### CCNA3\n",
    "01_LAN_Design.pdf\n",
    "02_Scaling_VLANs.pdf\n",
    "03_STP.pdf\n",
    "04_EtherChannel_HSRP.pdf\n",
    "05_Dynamic_Routing.pdf\n",
    "06_EIGRP.pdf\n",
    "07_EIGRP_Tune.pdf\n",
    "08_Single_Area_OSPF.pdf\n",
    "09_Multiarea_OSPF.pdf\t\n",
    "10_OSPF_Tuning_Tshoot.pdf\t\n",
    "\n",
    "### CCNA4\n",
    "01_WAN_Concepts.pdf\n",
    "02_Point-to-Point_Connections.pdf\n",
    "03_Branch_Connections.pdf\t\n",
    "04_Access_Control_Lists.pdf\t\n",
    "05_Network_Security_and_Monitoring.pdf\n",
    "06_Quality_of_Service.pdf\n",
    "07_Network_Evolution.pdf\n",
    "08_Network_Troubleshooting.pdf"
   ]
  },
  {
   "cell_type": "code",
   "execution_count": 1,
   "metadata": {},
   "outputs": [],
   "source": [
    "# Download all the lab slides from the soruce website: run this once\n",
    "import wget\n",
    "for i in range(1,5):\n",
    "    with open(\"CCNA\"+str(i) + \"/pdfs.txt\") as source:\n",
    "        for line in source.readlines():\n",
    "            name = line.strip()\n",
    "            link = \"http://vapenik.s.cnl.sk/pcsiete/CCNA\"+str(i) +\"/\" + name\n",
    "            wget.download(link, out =\"CCNA\"+str(i) + \"/\"+name )"
   ]
  }
 ],
 "metadata": {
  "interpreter": {
   "hash": "df759ce0835dde3092fbbd3a6e2b99f70c3ce6ad821d4525fdaa8034058d2895"
  },
  "kernelspec": {
   "display_name": "Python 3.9.5 64-bit (system)",
   "language": "python",
   "name": "python3"
  },
  "language_info": {
   "codemirror_mode": {
    "name": "ipython",
    "version": 3
   },
   "file_extension": ".py",
   "mimetype": "text/x-python",
   "name": "python",
   "nbconvert_exporter": "python",
   "pygments_lexer": "ipython3",
   "version": "3.9.5"
  },
  "orig_nbformat": 4
 },
 "nbformat": 4,
 "nbformat_minor": 2
}
